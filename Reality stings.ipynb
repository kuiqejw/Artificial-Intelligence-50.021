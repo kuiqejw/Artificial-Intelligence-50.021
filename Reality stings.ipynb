{
 "cells": [
  {
   "cell_type": "code",
   "execution_count": 1,
   "metadata": {},
   "outputs": [
    {
     "name": "stdout",
     "output_type": "stream",
     "text": [
      "['data/names\\\\Arabic.txt', 'data/names\\\\Chinese.txt', 'data/names\\\\Czech.txt', 'data/names\\\\Dutch.txt', 'data/names\\\\English.txt', 'data/names\\\\French.txt', 'data/names\\\\German.txt', 'data/names\\\\Greek.txt', 'data/names\\\\Irish.txt', 'data/names\\\\Italian.txt', 'data/names\\\\Japanese.txt', 'data/names\\\\Korean.txt', 'data/names\\\\Polish.txt', 'data/names\\\\Portuguese.txt', 'data/names\\\\Russian.txt', 'data/names\\\\Scottish.txt', 'data/names\\\\Spanish.txt', 'data/names\\\\Vietnamese.txt']\n",
      "Slusarski\n"
     ]
    }
   ],
   "source": [
    "# https://download.pytorch.org/tutorial/data.zip\n",
    "from __future__ import unicode_literals, print_function, division\n",
    "from io import open\n",
    "import glob\n",
    "import os\n",
    "import torch\n",
    "import random\n",
    "import torch.nn as nn\n",
    "import torch.nn.functional as F\n",
    "import torch.optim as optim\n",
    "import matplotlib.pyplot as plt\n",
    "def findFiles(path): return glob.glob(path)\n",
    "\n",
    "print(findFiles('data/names/*.txt'))\n",
    "\n",
    "import unicodedata\n",
    "import string\n",
    "\n",
    "\n",
    "#########################################################\n",
    "all_letters = string.ascii_letters + \" .,;'\"  ## NO TOUCH! ONLY THROW!\n",
    "n_letters = len(all_letters)\n",
    "#########################################################\n",
    "\n",
    "\n",
    "\n",
    "# Turn a Unicode string to plain ASCII, thanks to https://stackoverflow.com/a/518232/2809427\n",
    "def unicodeToAscii(s):\n",
    "    return ''.join(\n",
    "        c for c in unicodedata.normalize('NFD', s)\n",
    "        if unicodedata.category(c) != 'Mn'\n",
    "        and c in all_letters\n",
    "    )\n",
    "\n",
    "print(unicodeToAscii('Ślusàrski'))\n",
    "\n",
    "# Build the category_lines dictionary, a list of names per language\n",
    "category_lines = {}\n",
    "all_categories = []\n",
    "\n",
    "# Read a file and split into lines\n",
    "def readLines(filename):\n",
    "    lines = open(filename, encoding='utf-8').read().strip().split('\\n')\n",
    "    return [unicodeToAscii(line) for line in lines]\n",
    "\n",
    "for filename in findFiles('data/names/*.txt'):\n",
    "    category = os.path.splitext(os.path.basename(filename))[0]\n",
    "    all_categories.append(category)\n",
    "    lines = readLines(filename)\n",
    "    category_lines[category] = lines\n",
    "\n",
    "n_categories = len(all_categories)\n",
    "#category_lines  { \"all_categories[index]\" : list_of_names}\n",
    "# print(all_categories)\n",
    "# print(category_lines[all_categories[0]])\n",
    "\n",
    "\n",
    "# important stuff from this box is\n",
    "# category_lines = dict with all stuff\n",
    "# all_categories = list with all keys for category_lines\n",
    "# n_categories = number of categories.\n",
    "# n_letters = number of letters, or your input dimensions"
   ]
  },
  {
   "cell_type": "code",
   "execution_count": 99,
   "metadata": {},
   "outputs": [
    {
     "name": "stdout",
     "output_type": "stream",
     "text": [
      "torch.Size([1, 57])\n"
     ]
    }
   ],
   "source": [
    "# Just for demonstration, turn a letter into a <1 x n_letters> Tensor\n",
    "def letterToTensor(letter):\n",
    "    tensor = torch.zeros(n_letters)\n",
    "    return tensor\n",
    "\n",
    "# Turn a line into a <line_length x 1 x n_letters>,\n",
    "# or an array of one-hot letter vectors\n",
    "def lineToTensor(line):\n",
    "    tensor = torch.zeros(n_letters)\n",
    "    for letter in (line):\n",
    "        tensor[all_letters.find(letter)] += 1\n",
    "    return tensor.unsqueeze(0)\n",
    "\n",
    "print(lineToTensor('Jones').size()) # 57"
   ]
  },
  {
   "cell_type": "code",
   "execution_count": 180,
   "metadata": {},
   "outputs": [],
   "source": [
    "def randomTrainingExample(batch_size,n_categories):\n",
    "    line_holder = torch.zeros(batch_size,1,57)\n",
    "    cat_holder = torch.zeros(batch_size)\n",
    "    for i in range(batch_size):\n",
    "        category = all_categories[random.randint(0, len(all_categories) - 1)]\n",
    "        line = category_lines[category][random.randint(0, len(category_lines[category]) - 1)]\n",
    "        line_holder[i] = lineToTensor(line)\n",
    "        cat_holder[i]=all_categories.index(category) # indicate that this particular is the correct ans\n",
    "#         category_tensor = torch.tensor([all_categories.index(category)], dtype=torch.long)\n",
    "#         line_tensor = \n",
    "    return cat_holder,line_holder\n",
    "\n",
    "# for i in range(10):\n",
    "#     category, line, category_tensor, line_tensor = randomTrainingExample()\n",
    "#     print('category =', category, '/ line =', line)"
   ]
  },
  {
   "cell_type": "code",
   "execution_count": 181,
   "metadata": {},
   "outputs": [],
   "source": [
    "def categoryFromOutput(output):\n",
    "    top_n, top_i = output.topk(1)   # obtain the max value value, index\n",
    "    category_i = top_i[0].item()\n",
    "    return all_categories[category_i], category_i"
   ]
  },
  {
   "cell_type": "code",
   "execution_count": 281,
   "metadata": {},
   "outputs": [],
   "source": [
    "# word_embeddings = nn.Embedding(vocab_size, n_categories) # word embeddings appear to be useless\n",
    "# linear_layer = nn.Linear(hidden_dim, tagset_size)# we then add a linear to it.. make it more sensible..?\n",
    "class lstm_class(nn.Module):\n",
    "    def __init__(self, n_letters, n_categories,hidden_number): \n",
    "        super(lstm_class, self).__init__()\n",
    "        self.lstm = nn.LSTM(n_letters, hidden_number)  # Input dim is 3, output dim is number of hidden layers\n",
    "        self.hidden2tag = nn.Linear(hidden_number, n_categories)\n",
    "#         self.softmax = nn.Softmax(dim=1)\n",
    "    def forward(self,states,name):        \n",
    "        h_n,c_n = self.lstm(name,states)\n",
    "        # h_n is the h output at each word ...\n",
    "        # c_n is the outputs i want. \n",
    "#         print(h_n.shape) # torch.Size([6, 1, 57])\n",
    "#         print(len(c_n))\n",
    "#         print(c_n[0].shape)\n",
    "#         print(c_n[1].shape)\n",
    "        out1 = self.hidden2tag(h_n).float().squeeze(1)\n",
    "#         out2 = self.softmax(out1).squeeze(1)\n",
    "        out2 = out1\n",
    "        return out2"
   ]
  },
  {
   "cell_type": "code",
   "execution_count": 295,
   "metadata": {},
   "outputs": [],
   "source": [
    "no_hidden_layers = 10\n",
    "a_lstm = lstm_class(n_letters, n_categories,no_hidden_layers)\n",
    "loss_function = nn.CrossEntropyLoss()\n",
    "batch_size =8\n",
    "optimizer = optim.SGD(a_lstm.parameters(), lr=0.01)"
   ]
  },
  {
   "cell_type": "code",
   "execution_count": 296,
   "metadata": {},
   "outputs": [
    {
     "data": {
      "image/png": "[encoded data removed]",
      "text/plain": [
       "<Figure size 432x288 with 1 Axes>"
      ]
     },
     "metadata": {
      "needs_background": "light"
     },
     "output_type": "display_data"
    }
   ],
   "source": [
    "lossy = []\n",
    "for i in range(60):\n",
    "    category_tensor, line_tensor = randomTrainingExample(batch_size,n_categories)\n",
    "    initial = torch.zeros(1,1, no_hidden_layers)\n",
    "    hidden = torch.zeros(1, 1, no_hidden_layers)\n",
    "    states = initial,hidden \n",
    "    output = a_lstm(states,line_tensor)  # torch.Size([6, 18])\n",
    "    loss = loss_function(output, category_tensor.long())\n",
    "    lossy.append(loss.item())\n",
    "    loss.backward()\n",
    "    optimizer.step()\n",
    "\n",
    "plt.plot(lossy)\n",
    "plt.show()"
   ]
  }
 ],
 "metadata": {
  "kernelspec": {
   "display_name": "Python 3",
   "language": "python",
   "name": "python3"
  },
  "language_info": {
   "codemirror_mode": {
    "name": "ipython",
    "version": 3
   },
   "file_extension": ".py",
   "mimetype": "text/x-python",
   "name": "python",
   "nbconvert_exporter": "python",
   "pygments_lexer": "ipython3",
   "version": "3.6.4"
  }
 },
 "nbformat": 4,
 "nbformat_minor": 2
}
